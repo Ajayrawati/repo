{
 "cells": [
  {
   "cell_type": "code",
   "execution_count": null,
   "metadata": {},
   "outputs": [
    {
     "ename": "",
     "evalue": "",
     "output_type": "error",
     "traceback": [
      "\u001b[1;31mRunning cells with 'Python 3.11.4' requires the ipykernel package.\n",
      "\u001b[1;31mRun the following command to install 'ipykernel' into the Python environment. \n",
      "\u001b[1;31mCommand: '\"c:/Program Files/Python311/python.exe\" -m pip install ipykernel -U --user --force-reinstall'"
     ]
    }
   ],
   "source": [
    "import json\n",
    "\n",
    "# File path to your JSON file\n",
    "file_path = \"movieData.json\"\n",
    "\n",
    "# Load JSON data into the 'data' variable\n",
    "with open(file_path, 'r') as file:\n",
    "    data = json.load(file)\n",
    "\n",
    "# Function to clean the data\n",
    "def clean_json(data):\n",
    "    return {\n",
    "        \"title\": data.get(\"title\"),\n",
    "        \"url\": data.get(\"url\"),\n",
    "        \"description\": {\n",
    "            \"@type\": data[\"description\"].get(\"@type\"),\n",
    "            \"name\": data[\"description\"].get(\"name\"),\n",
    "            \"description\": data[\"description\"].get(\"description\"),\n",
    "            \"aggregateRating\": {\n",
    "                \"ratingValue\": data[\"description\"].get(\"aggregateRating\", {}).get(\"ratingValue\")\n",
    "            } if \"aggregateRating\" in data[\"description\"] else None,\n",
    "            \"genre\": data[\"description\"].get(\"genre\"),\n",
    "            \"datePublished\": data[\"description\"].get(\"datePublished\"),\n",
    "            \"director\": [\n",
    "                {\"name\": director.get(\"name\")}\n",
    "                for director in data[\"description\"].get(\"director\", [])\n",
    "            ] if \"director\" in data[\"description\"] else []\n",
    "        }\n",
    "    }\n",
    "\n",
    "# List to store cleaned movies\n",
    "movies = []\n",
    "\n",
    "# Process each item in the data\n",
    "for item in data:\n",
    "    cleaned_item = clean_json(item)\n",
    "    movies.append(cleaned_item)\n",
    "\n",
    "# Save cleaned data back to a new JSON file\n",
    "output_file = \"cleanedMovieData.json\"\n",
    "with open(output_file, 'w') as file:\n",
    "    json.dump(movies, file, indent=4)\n",
    "\n",
    "print(f\"Cleaned data has been saved to {output_file}\")\n"
   ]
  },
  {
   "cell_type": "code",
   "execution_count": null,
   "metadata": {},
   "outputs": [],
   "source": []
  }
 ],
 "metadata": {
  "kernelspec": {
   "display_name": "Python 3",
   "language": "python",
   "name": "python3"
  },
  "language_info": {
   "name": "python",
   "version": "3.11.4"
  }
 },
 "nbformat": 4,
 "nbformat_minor": 2
}
